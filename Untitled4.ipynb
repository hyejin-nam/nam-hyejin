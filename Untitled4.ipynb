{
  "nbformat": 4,
  "nbformat_minor": 0,
  "metadata": {
    "colab": {
      "name": "Untitled4.ipynb",
      "provenance": [],
      "authorship_tag": "ABX9TyNn3/tpk66OI2NIJCe1JYH/",
      "include_colab_link": true
    },
    "kernelspec": {
      "name": "python3",
      "display_name": "Python 3"
    }
  },
  "cells": [
    {
      "cell_type": "markdown",
      "metadata": {
        "id": "view-in-github",
        "colab_type": "text"
      },
      "source": [
        "<a href=\"https://colab.research.google.com/github/hyejin-nam/nam-hyejin/blob/master/Untitled4.ipynb\" target=\"_parent\"><img src=\"https://colab.research.google.com/assets/colab-badge.svg\" alt=\"Open In Colab\"/></a>"
      ]
    },
    {
      "cell_type": "code",
      "metadata": {
        "id": "PNAVCWKSJVf6",
        "colab_type": "code",
        "colab": {}
      },
      "source": [
        ""
      ],
      "execution_count": null,
      "outputs": []
    },
    {
      "cell_type": "code",
      "metadata": {
        "id": "YWvZcPxvJXzM",
        "colab_type": "code",
        "colab": {}
      },
      "source": [
        "print('코드 셀')"
      ],
      "execution_count": null,
      "outputs": []
    },
    {
      "cell_type": "markdown",
      "metadata": {
        "id": "wJLxDGdcJZe_",
        "colab_type": "text"
      },
      "source": [
        "#**_1주차 과제._**\n",
        "\n",
        "1.음성 : 아마존 AI 음성인식 플랫폼 알렉사\n",
        " 2. 언어 : 엑소브레인 (Exobrain)\n",
        " 3. 이미지 : 딥뷰 (Deep view)\n",
        " 4. 자율주행 : SCC-ML"
      ]
    }
  ]
}